{
 "cells": [
  {
   "attachments": {},
   "cell_type": "markdown",
   "metadata": {},
   "source": [
    "\n",
    "\n",
    "## Expandindo\n",
    "Nesta lição, você irá gerar e-mails de atendimento ao cliente que são personalizados de acordo com a avaliação de cada cliente.\n",
    "\n",
    "Configuração"
   ]
  },
  {
   "cell_type": "code",
   "execution_count": 4,
   "metadata": {},
   "outputs": [],
   "source": [
    "import openai\n",
    "import os\n",
    "\n",
    "from dotenv import load_dotenv, find_dotenv\n",
    "_ = load_dotenv(find_dotenv()) # read local .env file\n",
    "\n",
    "openai.api_key  = os.getenv('OPENAI_API_KEY')\n",
    "\n"
   ]
  },
  {
   "cell_type": "code",
   "execution_count": 5,
   "metadata": {},
   "outputs": [],
   "source": [
    "def get_completion(prompt, model=\"gpt-3.5-turbo\",temperature=0): # define uma função que recebe um prompt, um modelo e uma temperatura como parâmetros\n",
    "    messages = [{\"role\": \"user\", \"content\": prompt}] # cria uma lista com um dicionário que contém o papel e o conteúdo do prompt\n",
    "    response = openai.ChatCompletion.create( # chama o método ChatCompletion da biblioteca openai\n",
    "        model=model, # passa o modelo como argumento\n",
    "        messages=messages, # passa a lista de mensagens como argumento\n",
    "        temperature=temperature, # passa a temperatura como argumento\n",
    "    )\n",
    "    return response.choices[0].message[\"content\"] # retorna o conteúdo da primeira escolha da resposta"
   ]
  },
  {
   "attachments": {},
   "cell_type": "markdown",
   "metadata": {},
   "source": [
    "Personalize a resposta automática para um e-mail de cliente"
   ]
  },
  {
   "cell_type": "code",
   "execution_count": 6,
   "metadata": {},
   "outputs": [],
   "source": [
    "# given the sentiment from the lesson on \"inferring\",\n",
    "# and the original customer message, customize the email\n",
    "sentiment = \"negative\"\n",
    "\n",
    "# review for a blender\n",
    "review = f\"\"\"\n",
    "So, they still had the 17 piece system on seasonal \\\n",
    "sale for around $49 in the month of November, about \\\n",
    "half off, but for some reason (call it price gouging) \\\n",
    "around the second week of December the prices all went \\\n",
    "up to about anywhere from between $70-$89 for the same \\\n",
    "system. And the 11 piece system went up around $10 or \\\n",
    "so in price also from the earlier sale price of $29. \\\n",
    "So it looks okay, but if you look at the base, the part \\\n",
    "where the blade locks into place doesn’t look as good \\\n",
    "as in previous editions from a few years ago, but I \\\n",
    "plan to be very gentle with it (example, I crush \\\n",
    "very hard items like beans, ice, rice, etc. in the \\ \n",
    "blender first then pulverize them in the serving size \\\n",
    "I want in the blender then switch to the whipping \\\n",
    "blade for a finer flour, and use the cross cutting blade \\\n",
    "first when making smoothies, then use the flat blade \\\n",
    "if I need them finer/less pulpy). Special tip when making \\\n",
    "smoothies, finely cut and freeze the fruits and \\\n",
    "vegetables (if using spinach-lightly stew soften the \\ \n",
    "spinach then freeze until ready for use-and if making \\\n",
    "sorbet, use a small to medium sized food processor) \\ \n",
    "that you plan to use that way you can avoid adding so \\\n",
    "much ice if at all-when making your smoothie. \\\n",
    "After about a year, the motor was making a funny noise. \\\n",
    "I called customer service but the warranty expired \\\n",
    "already, so I had to buy another one. FYI: The overall \\\n",
    "quality has gone done in these types of products, so \\\n",
    "they are kind of counting on brand recognition and \\\n",
    "consumer loyalty to maintain sales. Got it in about \\\n",
    "two days.\n",
    "\"\"\""
   ]
  },
  {
   "cell_type": "code",
   "execution_count": 7,
   "metadata": {},
   "outputs": [
    {
     "name": "stdout",
     "output_type": "stream",
     "text": [
      "Dear Valued Customer,\n",
      "\n",
      "Thank you for taking the time to leave a review about our product. We are sorry to hear that you experienced an issue with the motor after a year of use. We apologize for any inconvenience this may have caused you.\n",
      "\n",
      "We would like to suggest that you reach out to our customer service team for further assistance with this issue. They will be able to provide you with more information on how to resolve this problem.\n",
      "\n",
      "We appreciate your feedback regarding the pricing of our product. We understand that the price increase may have been frustrating for you. We would like to assure you that we always strive to offer our products at a fair price.\n",
      "\n",
      "Thank you again for your review and for choosing our product. We hope to have the opportunity to serve you again in the future.\n",
      "\n",
      "Best regards,\n",
      "\n",
      "AI customer agent\n"
     ]
    }
   ],
   "source": [
    "prompt = f\"\"\"\n",
    "You are a customer service AI assistant.\n",
    "Your task is to send an email reply to a valued customer.\n",
    "Given the customer email delimited by ```, \\\n",
    "Generate a reply to thank the customer for their review.\n",
    "If the sentiment is positive or neutral, thank them for \\\n",
    "their review.\n",
    "If the sentiment is negative, apologize and suggest that \\\n",
    "they can reach out to customer service. \n",
    "Make sure to use specific details from the review.\n",
    "Write in a concise and professional tone.\n",
    "Sign the email as `AI customer agent`.\n",
    "Customer review: ```{review}```\n",
    "Review sentiment: {sentiment}\n",
    "\"\"\"\n",
    "response = get_completion(prompt)\n",
    "print(response)"
   ]
  },
  {
   "attachments": {},
   "cell_type": "markdown",
   "metadata": {},
   "source": [
    "Dear Valued Customer,\n",
    "\n",
    "Thank you for taking the time to leave a review about our product. We are sorry to hear that you experienced an issue with the motor after a year of use. We apologize for any inconvenience this may have caused you.\n",
    "\n",
    "We would like to suggest that you reach out to our customer service team for further assistance with this issue. They will be able to provide you with more information on how to resolve this problem.\n",
    "\n",
    "We appreciate your feedback regarding the pricing of our product. We understand that the price increase may have been frustrating for you. We would like to assure you that we always strive to offer our products at a fair price.\n",
    "\n",
    "Thank you again for your review and for choosing our product. We hope to have the opportunity to serve you again in the future.\n",
    "\n",
    "Best regards,\n",
    "\n",
    "AI customer agent"
   ]
  },
  {
   "cell_type": "code",
   "execution_count": null,
   "metadata": {},
   "outputs": [],
   "source": [
    "prompt = f\"“” Você é um assistente de atendimento ao cliente com inteligência artificial.\\\n",
    "Sua tarefa é enviar uma resposta por e-mail para um cliente valorizado.\\\n",
    "Dado o e-mail do cliente delimitado por ,\\\n",
    " Gere uma resposta para agradecer ao cliente pela sua avaliação.\\\n",
    "Se o sentimento for positivo ou neutro, agradeça-lhes pela \\\n",
    "sua avaliação. Se o sentimento for negativo, peça desculpas e sugira que \\\n",
    "eles possam entrar em contato com o serviço ao cliente.\\\n",
    "Certifique-se de usar detalhes específicos da avaliação. \\\n",
    "Escreva em um tom conciso e profissional. Assine o e-mail como \\\n",
    "`Agente de atendimento ao cliente com IA`. \\\n",
    "Avaliação do cliente: {review}``` Sentimento da avaliação: {sentiment} “”\"\n",
    "response = get_completion(prompt)\n",
    "print(response)"
   ]
  },
  {
   "attachments": {},
   "cell_type": "markdown",
   "metadata": {},
   "source": [
    "Lembre o modelo de usar detalhes do e-mail do cliente"
   ]
  },
  {
   "attachments": {},
   "cell_type": "markdown",
   "metadata": {},
   "source": [
    "Expandir é a tarefa de pegar um texto mais curto,\n",
    "como um conjunto de instruções ou uma lista de tópicos,\n",
    "e fazer o modelo de linguagem gerar um\n",
    "texto mais longo, como um e-mail ou\n",
    "um ensaio sobre algum tema. Há alguns ótimos usos disso,\n",
    "como se você usar um “Modelo de Linguagem de Nível de Linguística” como parceiro de brainstorming.\n",
    "Mas eu também quero reconhecer que há\n",
    "alguns casos de uso problemáticos disso, como se alguém fosse usá-lo para\n",
    "gerar uma grande quantidade de spam. Então, quando você usa esses recursos de\n",
    "um “Modelo de Linguagem de Nível de Linguística”, por favor use-o apenas de\n",
    "uma forma responsável e de uma forma que ajude as pessoas.\n",
    "Neste vídeo vamos passar por um exemplo de como você pode\n",
    "usar um modelo de linguagem para gerar um\n",
    "e-mail baseado em algumas informações. O\n",
    "e-mail é meio que autoproclamado para ser de um bot de IA que, como Andrew\n",
    "mencionou, é muito importante. Nós também vamos\n",
    "usar outro dos parâmetros de entrada do modelo chamado\n",
    "\"temperatura\" e este tipo de permite que você varie\n",
    "o grau de exploração e variedade\n",
    "nas respostas do modelo. Então vamos ao assunto!\n",
    "Então, antes de começarmos, vamos fazer o\n",
    "configuração usual. Então instale o pacote Python OpenAI e depois também defina\n",
    "nossa função auxiliar \"get_completion\".\n",
    " \n",
    "E agora vamos escrever uma resposta de e-mail personalizada para\n",
    "uma avaliação do cliente e assim dado uma avaliação do cliente e o sentimento\n",
    "vamos gerar uma resposta personalizada. Agora estamos\n",
    "vamos usar o modelo de linguagem para gerar um\n",
    "e-mail para um cliente baseado em uma avaliação do cliente\n",
    "e o sentimento da avaliação. Então nós já\n",
    "extraímos o sentimento usando o tipo de prompts que vimos\n",
    "no vídeo inferindo e, em seguida, esta é a avaliação do cliente para\n",
    "um liquidificador.\n",
    "E agora vamos personalizar a resposta\n",
    "com base no sentimento.\n",
    "E aqui a instrução é \"Você é um assistente de atendimento ao cliente com IA.\n",
    "Sua tarefa é enviar uma resposta por e-mail para um cliente valioso.\n",
    "Dado o e-mail do cliente delimitado por ```, \\\n",
    "Gere uma resposta para agradecer ao cliente pela sua avaliação.\n",
    "Se o sentimento for positivo ou neutro, agradeça-lhes pela \\\n",
    "sua avaliação.\n",
    "Se o sentimento for negativo, peça desculpas e sugira que \\\n",
    "eles possam entrar em contato com o serviço ao cliente. \n",
    "Certifique-se de usar detalhes específicos da avaliação.\n",
    "Escreva em um tom conciso e profissional.\n",
    "Assine o e-mail como `Agente de atendimento ao cliente com IA`.\n",
    "Avaliação do cliente: ```{review}```\n",
    "Sentimento da avaliação: {sentiment}\n",
    "\"\"\"\n",
    "response = get_completion(prompt)\n",
    "print(response)"
   ]
  }
 ],
 "metadata": {
  "kernelspec": {
   "display_name": "base",
   "language": "python",
   "name": "python3"
  },
  "language_info": {
   "codemirror_mode": {
    "name": "ipython",
    "version": 3
   },
   "file_extension": ".py",
   "mimetype": "text/x-python",
   "name": "python",
   "nbconvert_exporter": "python",
   "pygments_lexer": "ipython3",
   "version": "3.10.9"
  },
  "orig_nbformat": 4
 },
 "nbformat": 4,
 "nbformat_minor": 2
}
