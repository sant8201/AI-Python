{
 "cells": [
  {
   "cell_type": "code",
   "execution_count": 1,
   "metadata": {},
   "outputs": [],
   "source": [
    "import os\n",
    "import openai\n",
    "from dotenv import load_dotenv, find_dotenv\n",
    "_ = load_dotenv(find_dotenv()) # read local .env file\n",
    "\n",
    "openai.api_key  = os.getenv('OPENAI_API_KEY')"
   ]
  },
  {
   "cell_type": "code",
   "execution_count": 2,
   "metadata": {},
   "outputs": [],
   "source": [
    "def get_completion(prompt, model=\"gpt-3.5-turbo\"):\n",
    "    messages = [{\"role\": \"user\", \"content\": prompt}]\n",
    "    response = openai.ChatCompletion.create(\n",
    "        model=model,\n",
    "        messages=messages,\n",
    "        temperature=0, # this is the degree of randomness of the model's output\n",
    "    )\n",
    "    return response.choices[0].message[\"content\"]\n",
    "\n",
    "def get_completion_from_messages(messages, model=\"gpt-3.5-turbo\", temperature=0):\n",
    "    response = openai.ChatCompletion.create(\n",
    "        model=model,\n",
    "        messages=messages,\n",
    "        temperature=temperature, # this is the degree of randomness of the model's output\n",
    "    )\n",
    "#     print(str(response.choices[0].message))\n",
    "    return response.choices[0].message[\"content\"]"
   ]
  },
  {
   "cell_type": "code",
   "execution_count": null,
   "metadata": {},
   "outputs": [],
   "source": [
    "messages =  context.copy()\n",
    "messages.append(\n",
    "{'role':'system', 'content':'create a json summary of the previous food order. Itemize the price for each item\\\n",
    " The fields should be 1) pizza, include size 2) list of toppings 3) list of drinks, include size   4) list of sides include size  5)total price '},    \n",
    ")\n",
    " #The fields should be 1) pizza, price 2) list of toppings 3) list of drinks, include size include price  4) list of sides include size include price, 5)total price '},    \n",
    "\n",
    "response = get_completion_from_messages(messages, temperature=0)\n",
    "print(response)"
   ]
  },
  {
   "cell_type": "code",
   "execution_count": null,
   "metadata": {},
   "outputs": [],
   "source": [
    "response = get_completion_from_messages(messages, temperature=1)\n",
    "print(response)"
   ]
  },
  {
   "cell_type": "code",
   "execution_count": null,
   "metadata": {},
   "outputs": [],
   "source": [
    "import panel as pn  # GUI\n",
    "pn.extension()\n",
    "\n",
    "panels = [] # collect display \n",
    "\n",
    "context = [{'role':'system', 'content':\"\"\"\n",
    "Você é um OrderBot, um serviço autonomo que atende clientes de uma pizzaria. Primeiro cumprimente o cliente, depois recolha o pedido e, em seguida, pergunta se é para retirar ou entregar. Em seguida, verifique se o cliente quer adicionar mais alguma coisa. Se for uma entrega, você pede um endereço. Certifique-se de esclarecer todas as opções, extras e tamanhos para identificar exclusivamente o item do menu. Você responde em um estilo curto, muito amigável e conversacional.\n",
    "O menu inclui:\\\n",
    "Opcionais \\\n",
    "Pão de alho: R$ 10,00 \\\n",
    "Batata frita: R$ 15,00 \\\n",
    "Salada mista: R$ 12,00 \\\n",
    "Azeitonas: R$ 8,00 \\\n",
    "Pizzas salgadas \\\n",
    "Mussarela: R$ 25,00 \\\n",
    "Calabresa: R$ 28,00 \\\n",
    "Frango com catupiry: R$ 30,00 \\\n",
    "Portuguesa: R$ 32,00 \\\n",
    "Quatro queijos: R$ 35,00 \\\n",
    "Marguerita: R$ 27,00 \\\n",
    "Bacon: R$ 29,00 \\\n",
    "Atum: R$ 31,00 \\\n",
    "Pizzas doces \\\n",
    "Chocolate: R$ 20,00 \\\n",
    "Banana com canela: R$ 22,00 \\\n",
    "Romeu e Julieta: R$ 24,00 \\\n",
    "Prestígio: R$ 26,00 \\\n",
    "Brigadeiro: R$ 28,00 \\\n",
    "Bebidas \\\n",
    "Refrigerante lata: R$ 5,00 \\\n",
    "Refrigerante 2 litros: R$ 12,00 \\\n",
    "Suco natural: R$ 8,00 \\\n",
    "Água mineral: R$ 4,00 \\\n",
    "Cerveja lata: R$ 6,00 \\\n",
    "Cerveja long neck: R$ 10,00 \\\n",
    "Vinho tinto: R$ 40,00 \\\n",
    "Taxa de entrega \\\n",
    "A taxa de entrega é de R$ 10,00 para pedidos até 5 km de distância. \\\n",
    "Para pedidos acima de 5 km, a taxa é de R$ 15,00. \\\n",
    "Não há taxa de entrega para pedidos acima de R$ 100,00. \\\n",
    "Opções de entrega e retirada pessoalmente \\\n",
    "Você pode escolher entre receber sua pizza em casa ou retirar na pizzaria. \\\n",
    "Se você optar pela entrega em casa, informe seu endereço completo e telefone para contato. \\\n",
    "Se você optar pela retirada na pizzaria, informe o horário que deseja buscar sua pizza. \\\n",
    "\"\"\"} ]  # accumulate messages\n",
    "\n",
    "\n",
    "inp = pn.widgets.TextInput(value=\"Hi\", placeholder='Enter text here…')\n",
    "button_conversation = pn.widgets.Button(name=\"Chat!\")\n",
    "\n",
    "interactive_conversation = pn.bind(collect_messages, button_conversation)\n",
    "\n",
    "dashboard = pn.Column(\n",
    "    inp,\n",
    "    pn.Row(button_conversation),\n",
    "    pn.panel(interactive_conversation, loading_indicator=True, height=300),\n",
    ")\n",
    "\n",
    "dashboard"
   ]
  },
  {
   "cell_type": "code",
   "execution_count": null,
   "metadata": {},
   "outputs": [],
   "source": [
    "messages =  context.copy()\n",
    "messages.append(\n",
    "{'role':'system', 'content':'create a json summary of the previous food order. Itemize the price for each item\\\n",
    " The fields should be 1) pizza, include size 2) list of toppings 3) list of drinks, include size   4) list of sides include size  5)total price '},    \n",
    ")\n",
    " #The fields should be 1) pizza, price 2) list of toppings 3) list of drinks, include size include price  4) list of sides include size include price, 5)total price '},    \n",
    "\n",
    "response = get_completion_from_messages(messages, temperature=0)\n",
    "print(response)"
   ]
  }
 ],
 "metadata": {
  "kernelspec": {
   "display_name": "base",
   "language": "python",
   "name": "python3"
  },
  "language_info": {
   "codemirror_mode": {
    "name": "ipython",
    "version": 3
   },
   "file_extension": ".py",
   "mimetype": "text/x-python",
   "name": "python",
   "nbconvert_exporter": "python",
   "pygments_lexer": "ipython3",
   "version": "3.10.9"
  },
  "orig_nbformat": 4
 },
 "nbformat": 4,
 "nbformat_minor": 2
}
